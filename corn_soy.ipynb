{
 "cells": [
  {
   "cell_type": "code",
   "execution_count": null,
   "id": "7141f023-1ea6-4006-95a7-97d875157865",
   "metadata": {},
   "outputs": [],
   "source": [
    "import ee\n",
    "#import ipyleaflet\n",
    "import geemap\n",
    "ee.Initialize(project='ee-experiments')"
   ]
  },
  {
   "cell_type": "code",
   "execution_count": null,
   "id": "9be3a506-cbf2-4a6d-b0bb-88df8d7545e4",
   "metadata": {},
   "outputs": [],
   "source": [
    "CDL = ee.ImageCollection('USDA/NASS/CDL').select('cropland').filterDate('2022-01-01', '2022-12-30').first()\n",
    "USA_COUNTIES = ee.FeatureCollection(\"TIGER/2018/Counties\")\n",
    "AOI = USA_COUNTIES.filter(ee.Filter.eq('GEOID', '19073'));"
   ]
  },
  {
   "cell_type": "code",
   "execution_count": null,
   "id": "6b601d5a-d37a-4ec2-8d2a-64209425cf21",
   "metadata": {},
   "outputs": [],
   "source": [
    "def sld_cdl_ramp():\n",
    "    cdl_info = CDL.getInfo()\n",
    "    sld_ramp ='<RasterSymbolizer><ColorMap type=\"values\" extended=\"true\" >'\n",
    "    for color, crop_id, crop_name in zip(\n",
    "        cdl_info['properties']['cropland_class_palette'],\n",
    "        cdl_info['properties']['cropland_class_values'],\n",
    "        cdl_info['properties']['cropland_class_names']\n",
    "    ):\n",
    "        sld_ramp += f'<ColorMapEntry color=\"#{color}\" quantity=\"{crop_id}\" label=\"{crop_name}\" />'\n",
    "    sld_ramp += '</ColorMap></RasterSymbolizer>'\n",
    "    return sld_ramp\n",
    "\n",
    "def sld_three_class_cdl_ramp():\n",
    "    cdl_info = CDL.getInfo()\n",
    "    sld_ramp ='<RasterSymbolizer><ColorMap type=\"values\" extended=\"true\" >'\n",
    "    for color, crop_id, crop_name in zip(\n",
    "        cdl_info['properties']['cropland_class_palette'],\n",
    "        cdl_info['properties']['cropland_class_values'],\n",
    "        cdl_info['properties']['cropland_class_names']\n",
    "    ):\n",
    "        if crop_name.lower() in ('corn', 'soybeans'):\n",
    "            sld_ramp += f'<ColorMapEntry color=\"#{color}\" quantity=\"{crop_id}\" label=\"{crop_name}\" />'\n",
    "\n",
    "    # put everything other than Corn and Soy in the \"other\" class, and color blue\n",
    "    sld_ramp += '<ColorMapEntry color=\"#00a8e2\" quantity=\"3\" label=\"other\" />'\n",
    "    sld_ramp += '</ColorMap></RasterSymbolizer>'\n",
    "    return sld_ramp"
   ]
  },
  {
   "cell_type": "code",
   "execution_count": null,
   "id": "0356a20a-ff84-4dc6-9b45-586378fdb14d",
   "metadata": {},
   "outputs": [],
   "source": [
    "Map = geemap.Map()\n",
    "Map.center_object(AOI, 10)\n",
    "Map.addLayer(AOI, {}, 'Greene County IA');\n",
    "Map.addLayer(ee.Image(CDL).sldStyle(sld_cdl_ramp()).clip(AOI), {}, 'CDL orig');\n",
    "\n",
    "# remap cdl into corn 1, soy 2, and everything else to 3\n",
    "CDL_REMAP = CDL.remap([1, 5], [1, 2], 3).rename('crop_type');\n",
    "# print(cdl_remap);\n",
    "Map.addLayer(ee.Image(CDL_REMAP).sldStyle(sld_three_class_cdl_ramp()).clip(AOI), {}, 'CDL corn/soy/other');\n",
    "\n",
    "Map"
   ]
  }
 ],
 "metadata": {
  "kernelspec": {
   "display_name": "ee",
   "language": "python",
   "name": "ee"
  },
  "language_info": {
   "codemirror_mode": {
    "name": "ipython",
    "version": 3
   },
   "file_extension": ".py",
   "mimetype": "text/x-python",
   "name": "python",
   "nbconvert_exporter": "python",
   "pygments_lexer": "ipython3",
   "version": "3.12.1"
  }
 },
 "nbformat": 4,
 "nbformat_minor": 5
}
